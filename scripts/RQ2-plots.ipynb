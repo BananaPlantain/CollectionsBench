{
 "cells": [
  {
   "cell_type": "code",
   "execution_count": null,
   "metadata": {
    "collapsed": true
   },
   "outputs": [],
   "source": [
    "import pandas as pd\n",
    "import os\n",
    "import matplotlib.pyplot as plt\n",
    "import json"
   ]
  },
  {
   "cell_type": "code",
   "execution_count": null,
   "metadata": {
    "collapsed": true
   },
   "outputs": [],
   "source": [
    "file = 'memory-footprint/collectionsizes.json'\n",
    "\n",
    "folder = '../results/EMSE/'\n",
    "output_folder = 'C:/Users/Artur/Google Drive/Academy/Projects/2018 4 Journal Empirical Study Java Collections/2018 ESEM Journal/repo/16259492rykqhjrhsdyk/figs'\n",
    "\n",
    "\n",
    "df = pd.read_json(os.path.join(folder, file))"
   ]
  },
  {
   "cell_type": "code",
   "execution_count": null,
   "metadata": {
    "collapsed": true
   },
   "outputs": [],
   "source": [
    "import re\n",
    "bmatch = re.compile(r\"^de.heidelberg.pvs.container_bench.benchmarks\\.([a-z0-9.]+)\\.([A-Z][A-Za-z0-9]+)\\.([a-zA-Z0-9_.]+)$\")\n",
    "\n",
    "def normalize_benchmark(df):\n",
    "    fullbench = df.benchmark\n",
    "    match = bmatch.match(fullbench)\n",
    "    df['bench_id'] = match[1]\n",
    "    df['class'] = match[2]\n",
    "    df['clazz'] = match[2]\n",
    "    df['method'] = match[3]\n",
    "    return df"
   ]
  },
  {
   "cell_type": "code",
   "execution_count": null,
   "metadata": {
    "collapsed": true
   },
   "outputs": [],
   "source": [
    "def aggregate_memory_stats(df):\n",
    "    df['numentries'] = df['secondaryMetrics']['numentries']['score']\n",
    "    df['tablesizemax'] = df['secondaryMetrics']['tablesizemax']['score']\n",
    "    df['tablesizesum'] = df['secondaryMetrics']['tablesizesum']['score']\n",
    "    df['totalmemory'] = df['secondaryMetrics']['totalmemory']['score']\n",
    "\n",
    "    return df"
   ]
  },
  {
   "cell_type": "code",
   "execution_count": null,
   "metadata": {
    "collapsed": true
   },
   "outputs": [],
   "source": [
    "EMPTY = '_'\n",
    "\n",
    "def normalize_params(df):\n",
    "    \n",
    "    params = df.params\n",
    "    if 'impl' in params:\n",
    "        df['impl'] = params['impl']\n",
    "    else:\n",
    "        df['impl'] = df['benchmark'].split('.')[-2]\n",
    "    \n",
    "    if 'payloadType' in params:\n",
    "        df['payloadType'] = params['payloadType']\n",
    "    else:\n",
    "        df['payloadType'] = EMPTY\n",
    "        \n",
    "    if 'workload' in params:\n",
    "        df['workload'] = params['workload']\n",
    "    else:\n",
    "        df['workload'] = EMPTY\n",
    "    \n",
    "    df['size'] = params['size']\n",
    "        \n",
    "    return df"
   ]
  },
  {
   "cell_type": "code",
   "execution_count": null,
   "metadata": {
    "collapsed": true
   },
   "outputs": [],
   "source": [
    "# Delete expensive metrics\n",
    "del aggr_df['primaryMetric']\n",
    "del aggr_df['secondaryMetrics']"
   ]
  },
  {
   "cell_type": "code",
   "execution_count": null,
   "metadata": {
    "collapsed": true
   },
   "outputs": [],
   "source": [
    "aggr_df = df.apply(aggregate_memory_stats, axis=1)\n",
    "aggr_df = aggr_df.apply(normalize_params, axis=1)\n",
    "aggr_df = aggr_df.apply(normalize_benchmark, axis=1)\n",
    "\n",
    "\n",
    "# Serialize into disk\n",
    "aggr_df.to_csv(os.path.join(folder, 'aggregated-memory.csv'))"
   ]
  },
  {
   "cell_type": "code",
   "execution_count": null,
   "metadata": {
    "collapsed": true
   },
   "outputs": [],
   "source": [
    "allimpl = aggr_df.impl.unique() \n",
    "\n",
    "hashimpl = list(filter(lambda x: '_HASH' in x or 'QHASH' in x, allimpl))\n",
    "\n",
    "arrayimpl = list(filter(lambda x: '_ARRAY' in x, allimpl))\n",
    "linkedimpl = list(filter(lambda x: '_LINKED' in x, allimpl))\n",
    "sortedimpl = list(filter(lambda x: 'RB' in x or 'TREE' in x or 'AVL' in x, allimpl))\n",
    "\n",
    "map_primitives = list(filter(lambda x: 'O2I' in x, allimpl))"
   ]
  },
  {
   "cell_type": "markdown",
   "metadata": {},
   "source": [
    "### Plot Hash Variants"
   ]
  },
  {
   "cell_type": "code",
   "execution_count": null,
   "metadata": {},
   "outputs": [],
   "source": [
    "import seaborn as sns\n",
    "\n",
    "clazz = 'GetPut'\n",
    "\n",
    "sns.set_style('white')\n",
    "clrs = sns.color_palette(\"Paired\")\n",
    "plt.clf()\n",
    "hash_df = aggr_df.query('impl in @hashimpl and impl not in @map_primitives')\n",
    "\n",
    "sns.catplot(data=hash_df, x='totalmemory', y='impl', orient='h', kind='bar', col='size', sharex=False, palette=clrs, aspect=.8)\n",
    "plt.savefig(os.path.join(output_folder, 'totalmemory-wordcount-hash.pdf'))\n",
    "plt.tight_layout()\n",
    "plt.show()"
   ]
  },
  {
   "cell_type": "code",
   "execution_count": null,
   "metadata": {},
   "outputs": [],
   "source": [
    "sns.set_style('white')\n",
    "clrs = sns.color_palette(\"Paired\")\n",
    "plt.clf()\n",
    "hash_df = aggr_df.query('impl in @linkedimpl and impl not in @map_primitives')\n",
    "\n",
    "sns.catplot(data=hash_df, x='totalmemory', y='impl', orient='h', kind='bar', col='size', sharex=False, palette=clrs)\n",
    "plt.tight_layout()\n",
    "plt.savefig(os.path.join(output_folder, 'totalmemory-wordcount-linked.pdf'))\n",
    "plt.show()"
   ]
  },
  {
   "cell_type": "code",
   "execution_count": null,
   "metadata": {},
   "outputs": [],
   "source": [
    "sns.set_style('white')\n",
    "clrs = sns.color_palette(\"Paired\")\n",
    "plt.clf()\n",
    "hash_df = aggr_df.query('impl in @sortedimpl and impl not in @map_primitives')\n",
    "\n",
    "sns.catplot(data=hash_df, x='totalmemory', y='impl', orient='h', kind='bar', col='size', sharex=False, palette=clrs)\n",
    "plt.savefig(os.path.join(output_folder, 'totalmemory-wordcount-sorted.pdf'))\n",
    "plt.show()"
   ]
  },
  {
   "cell_type": "code",
   "execution_count": null,
   "metadata": {
    "collapsed": true
   },
   "outputs": [],
   "source": []
  }
 ],
 "metadata": {
  "kernelspec": {
   "display_name": "Python 3",
   "language": "python",
   "name": "python3"
  },
  "language_info": {
   "codemirror_mode": {
    "name": "ipython",
    "version": 3
   },
   "file_extension": ".py",
   "mimetype": "text/x-python",
   "name": "python",
   "nbconvert_exporter": "python",
   "pygments_lexer": "ipython3",
   "version": "3.6.3"
  }
 },
 "nbformat": 4,
 "nbformat_minor": 2
}
