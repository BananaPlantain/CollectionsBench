{
 "cells": [
  {
   "cell_type": "markdown",
   "metadata": {},
   "source": [
    "### Results Overview (Heatmap)\n",
    "\n",
    "Plot a simple heatmap per experiment to provide a first-level analysis."
   ]
  },
  {
   "cell_type": "code",
   "execution_count": 11,
   "metadata": {
    "collapsed": true
   },
   "outputs": [],
   "source": [
    "import pandas as pd\n",
    "import os\n",
    "import json\n",
    "import numpy as np\n",
    "import seaborn as sns\n",
    "import matplotlib.pyplot as plt\n",
    "from matplotlib.backends.backend_pdf import PdfPages\n",
    "\n",
    "from hashmap import plot_experiment"
   ]
  },
  {
   "cell_type": "code",
   "execution_count": 12,
   "metadata": {
    "collapsed": true
   },
   "outputs": [],
   "source": [
    "file = 'aggregated_results.csv'\n",
    "\n",
    "folder = '../results/EMSE/'\n",
    "\n",
    "df = pd.read_csv(os.path.join(folder, file))\n",
    "df['clazz'] = df['class']"
   ]
  },
  {
   "cell_type": "code",
   "execution_count": 13,
   "metadata": {
    "collapsed": true
   },
   "outputs": [],
   "source": [
    "output_folder = '../results/EMSE/heatmaps'\n",
    "output_folder = 'C:/Users/Artur/Google Drive/Academy/Projects/2018 4 Journal Empirical Study Java Collections/2018 ESEM Journal/repo/16259492rykqhjrhsdyk/figs'\n",
    "\n",
    "if not os.path.exists(output_folder): os.makedirs(output_folder)\n"
   ]
  },
  {
   "cell_type": "code",
   "execution_count": 14,
   "metadata": {
    "collapsed": true
   },
   "outputs": [],
   "source": [
    "allimpl = df.impl.unique() \n",
    "\n",
    "hashimpl = list(filter(lambda x: '_HASH' in x or 'QHASH' in x, allimpl))\n",
    "\n",
    "arrayimpl = list(filter(lambda x: '_ARRAY' in x, allimpl))\n",
    "linkedimpl = list(filter(lambda x: '_LINKED' in x, allimpl))\n",
    "sortedimpl = list(filter(lambda x: 'RB' in x or 'TREE' in x or 'AVL' in x, allimpl))\n",
    "\n",
    "map_primitives = list(filter(lambda x: 'O2I' in x, allimpl))"
   ]
  },
  {
   "cell_type": "markdown",
   "metadata": {},
   "source": [
    "### Wordcount Get + Put Hash"
   ]
  },
  {
   "cell_type": "code",
   "execution_count": 15,
   "metadata": {},
   "outputs": [
    {
     "ename": "PermissionError",
     "evalue": "[Errno 13] Permission denied: 'C:/Users/Artur/Google Drive/Academy/Projects/2018 4 Journal Empirical Study Java Collections/2018 ESEM Journal/repo/16259492rykqhjrhsdyk/figs\\\\wordcount-hash-getput.pdf'",
     "output_type": "error",
     "traceback": [
      "\u001b[1;31m---------------------------------------------------------------------------\u001b[0m",
      "\u001b[1;31mPermissionError\u001b[0m                           Traceback (most recent call last)",
      "\u001b[1;32m<ipython-input-15-588b61b9c3d8>\u001b[0m in \u001b[0;36m<module>\u001b[1;34m()\u001b[0m\n\u001b[0;32m     12\u001b[0m \u001b[1;33m\u001b[0m\u001b[0m\n\u001b[0;32m     13\u001b[0m \u001b[0mplt\u001b[0m\u001b[1;33m.\u001b[0m\u001b[0mtight_layout\u001b[0m\u001b[1;33m(\u001b[0m\u001b[1;33m)\u001b[0m\u001b[1;33m\u001b[0m\u001b[0m\n\u001b[1;32m---> 14\u001b[1;33m \u001b[0mplt\u001b[0m\u001b[1;33m.\u001b[0m\u001b[0msavefig\u001b[0m\u001b[1;33m(\u001b[0m\u001b[0mos\u001b[0m\u001b[1;33m.\u001b[0m\u001b[0mpath\u001b[0m\u001b[1;33m.\u001b[0m\u001b[0mjoin\u001b[0m\u001b[1;33m(\u001b[0m\u001b[0moutput_folder\u001b[0m\u001b[1;33m,\u001b[0m \u001b[1;34m'wordcount-hash-getput.pdf'\u001b[0m\u001b[1;33m)\u001b[0m\u001b[1;33m)\u001b[0m\u001b[1;33m\u001b[0m\u001b[0m\n\u001b[0m\u001b[0;32m     15\u001b[0m \u001b[0mplt\u001b[0m\u001b[1;33m.\u001b[0m\u001b[0mclose\u001b[0m\u001b[1;33m(\u001b[0m\u001b[1;33m)\u001b[0m\u001b[1;33m\u001b[0m\u001b[0m\n",
      "\u001b[1;32mC:\\ProgramData\\Anaconda3\\lib\\site-packages\\matplotlib\\pyplot.py\u001b[0m in \u001b[0;36msavefig\u001b[1;34m(*args, **kwargs)\u001b[0m\n\u001b[0;32m    695\u001b[0m \u001b[1;32mdef\u001b[0m \u001b[0msavefig\u001b[0m\u001b[1;33m(\u001b[0m\u001b[1;33m*\u001b[0m\u001b[0margs\u001b[0m\u001b[1;33m,\u001b[0m \u001b[1;33m**\u001b[0m\u001b[0mkwargs\u001b[0m\u001b[1;33m)\u001b[0m\u001b[1;33m:\u001b[0m\u001b[1;33m\u001b[0m\u001b[0m\n\u001b[0;32m    696\u001b[0m     \u001b[0mfig\u001b[0m \u001b[1;33m=\u001b[0m \u001b[0mgcf\u001b[0m\u001b[1;33m(\u001b[0m\u001b[1;33m)\u001b[0m\u001b[1;33m\u001b[0m\u001b[0m\n\u001b[1;32m--> 697\u001b[1;33m     \u001b[0mres\u001b[0m \u001b[1;33m=\u001b[0m \u001b[0mfig\u001b[0m\u001b[1;33m.\u001b[0m\u001b[0msavefig\u001b[0m\u001b[1;33m(\u001b[0m\u001b[1;33m*\u001b[0m\u001b[0margs\u001b[0m\u001b[1;33m,\u001b[0m \u001b[1;33m**\u001b[0m\u001b[0mkwargs\u001b[0m\u001b[1;33m)\u001b[0m\u001b[1;33m\u001b[0m\u001b[0m\n\u001b[0m\u001b[0;32m    698\u001b[0m     \u001b[0mfig\u001b[0m\u001b[1;33m.\u001b[0m\u001b[0mcanvas\u001b[0m\u001b[1;33m.\u001b[0m\u001b[0mdraw_idle\u001b[0m\u001b[1;33m(\u001b[0m\u001b[1;33m)\u001b[0m   \u001b[1;31m# need this if 'transparent=True' to reset colors\u001b[0m\u001b[1;33m\u001b[0m\u001b[0m\n\u001b[0;32m    699\u001b[0m     \u001b[1;32mreturn\u001b[0m \u001b[0mres\u001b[0m\u001b[1;33m\u001b[0m\u001b[0m\n",
      "\u001b[1;32mC:\\ProgramData\\Anaconda3\\lib\\site-packages\\matplotlib\\figure.py\u001b[0m in \u001b[0;36msavefig\u001b[1;34m(self, fname, **kwargs)\u001b[0m\n\u001b[0;32m   1812\u001b[0m             \u001b[0mself\u001b[0m\u001b[1;33m.\u001b[0m\u001b[0mset_frameon\u001b[0m\u001b[1;33m(\u001b[0m\u001b[0mframeon\u001b[0m\u001b[1;33m)\u001b[0m\u001b[1;33m\u001b[0m\u001b[0m\n\u001b[0;32m   1813\u001b[0m \u001b[1;33m\u001b[0m\u001b[0m\n\u001b[1;32m-> 1814\u001b[1;33m         \u001b[0mself\u001b[0m\u001b[1;33m.\u001b[0m\u001b[0mcanvas\u001b[0m\u001b[1;33m.\u001b[0m\u001b[0mprint_figure\u001b[0m\u001b[1;33m(\u001b[0m\u001b[0mfname\u001b[0m\u001b[1;33m,\u001b[0m \u001b[1;33m**\u001b[0m\u001b[0mkwargs\u001b[0m\u001b[1;33m)\u001b[0m\u001b[1;33m\u001b[0m\u001b[0m\n\u001b[0m\u001b[0;32m   1815\u001b[0m \u001b[1;33m\u001b[0m\u001b[0m\n\u001b[0;32m   1816\u001b[0m         \u001b[1;32mif\u001b[0m \u001b[0mframeon\u001b[0m\u001b[1;33m:\u001b[0m\u001b[1;33m\u001b[0m\u001b[0m\n",
      "\u001b[1;32mC:\\ProgramData\\Anaconda3\\lib\\site-packages\\matplotlib\\backend_bases.py\u001b[0m in \u001b[0;36mprint_figure\u001b[1;34m(self, filename, dpi, facecolor, edgecolor, orientation, format, **kwargs)\u001b[0m\n\u001b[0;32m   2257\u001b[0m                 \u001b[0morientation\u001b[0m\u001b[1;33m=\u001b[0m\u001b[0morientation\u001b[0m\u001b[1;33m,\u001b[0m\u001b[1;33m\u001b[0m\u001b[0m\n\u001b[0;32m   2258\u001b[0m                 \u001b[0mbbox_inches_restore\u001b[0m\u001b[1;33m=\u001b[0m\u001b[0m_bbox_inches_restore\u001b[0m\u001b[1;33m,\u001b[0m\u001b[1;33m\u001b[0m\u001b[0m\n\u001b[1;32m-> 2259\u001b[1;33m                 **kwargs)\n\u001b[0m\u001b[0;32m   2260\u001b[0m         \u001b[1;32mfinally\u001b[0m\u001b[1;33m:\u001b[0m\u001b[1;33m\u001b[0m\u001b[0m\n\u001b[0;32m   2261\u001b[0m             \u001b[1;32mif\u001b[0m \u001b[0mbbox_inches\u001b[0m \u001b[1;32mand\u001b[0m \u001b[0mrestore_bbox\u001b[0m\u001b[1;33m:\u001b[0m\u001b[1;33m\u001b[0m\u001b[0m\n",
      "\u001b[1;32mC:\\ProgramData\\Anaconda3\\lib\\site-packages\\matplotlib\\backends\\backend_pdf.py\u001b[0m in \u001b[0;36mprint_pdf\u001b[1;34m(self, filename, **kwargs)\u001b[0m\n\u001b[0;32m   2582\u001b[0m             \u001b[0mfile\u001b[0m \u001b[1;33m=\u001b[0m \u001b[0mfilename\u001b[0m\u001b[1;33m.\u001b[0m\u001b[0m_file\u001b[0m\u001b[1;33m\u001b[0m\u001b[0m\n\u001b[0;32m   2583\u001b[0m         \u001b[1;32melse\u001b[0m\u001b[1;33m:\u001b[0m\u001b[1;33m\u001b[0m\u001b[0m\n\u001b[1;32m-> 2584\u001b[1;33m             \u001b[0mfile\u001b[0m \u001b[1;33m=\u001b[0m \u001b[0mPdfFile\u001b[0m\u001b[1;33m(\u001b[0m\u001b[0mfilename\u001b[0m\u001b[1;33m,\u001b[0m \u001b[0mmetadata\u001b[0m\u001b[1;33m=\u001b[0m\u001b[0mkwargs\u001b[0m\u001b[1;33m.\u001b[0m\u001b[0mpop\u001b[0m\u001b[1;33m(\u001b[0m\u001b[1;34m\"metadata\"\u001b[0m\u001b[1;33m,\u001b[0m \u001b[1;32mNone\u001b[0m\u001b[1;33m)\u001b[0m\u001b[1;33m)\u001b[0m\u001b[1;33m\u001b[0m\u001b[0m\n\u001b[0m\u001b[0;32m   2585\u001b[0m         \u001b[1;32mtry\u001b[0m\u001b[1;33m:\u001b[0m\u001b[1;33m\u001b[0m\u001b[0m\n\u001b[0;32m   2586\u001b[0m             \u001b[0mfile\u001b[0m\u001b[1;33m.\u001b[0m\u001b[0mnewPage\u001b[0m\u001b[1;33m(\u001b[0m\u001b[0mwidth\u001b[0m\u001b[1;33m,\u001b[0m \u001b[0mheight\u001b[0m\u001b[1;33m)\u001b[0m\u001b[1;33m\u001b[0m\u001b[0m\n",
      "\u001b[1;32mC:\\ProgramData\\Anaconda3\\lib\\site-packages\\matplotlib\\backends\\backend_pdf.py\u001b[0m in \u001b[0;36m__init__\u001b[1;34m(self, filename, metadata)\u001b[0m\n\u001b[0;32m    437\u001b[0m         \u001b[0mself\u001b[0m\u001b[1;33m.\u001b[0m\u001b[0mtell_base\u001b[0m \u001b[1;33m=\u001b[0m \u001b[1;36m0\u001b[0m\u001b[1;33m\u001b[0m\u001b[0m\n\u001b[0;32m    438\u001b[0m         \u001b[1;32mif\u001b[0m \u001b[0misinstance\u001b[0m\u001b[1;33m(\u001b[0m\u001b[0mfilename\u001b[0m\u001b[1;33m,\u001b[0m \u001b[0msix\u001b[0m\u001b[1;33m.\u001b[0m\u001b[0mstring_types\u001b[0m\u001b[1;33m)\u001b[0m\u001b[1;33m:\u001b[0m\u001b[1;33m\u001b[0m\u001b[0m\n\u001b[1;32m--> 439\u001b[1;33m             \u001b[0mfh\u001b[0m \u001b[1;33m=\u001b[0m \u001b[0mopen\u001b[0m\u001b[1;33m(\u001b[0m\u001b[0mfilename\u001b[0m\u001b[1;33m,\u001b[0m \u001b[1;34m'wb'\u001b[0m\u001b[1;33m)\u001b[0m\u001b[1;33m\u001b[0m\u001b[0m\n\u001b[0m\u001b[0;32m    440\u001b[0m         \u001b[1;32melif\u001b[0m \u001b[0mis_writable_file_like\u001b[0m\u001b[1;33m(\u001b[0m\u001b[0mfilename\u001b[0m\u001b[1;33m)\u001b[0m\u001b[1;33m:\u001b[0m\u001b[1;33m\u001b[0m\u001b[0m\n\u001b[0;32m    441\u001b[0m             \u001b[1;32mtry\u001b[0m\u001b[1;33m:\u001b[0m\u001b[1;33m\u001b[0m\u001b[0m\n",
      "\u001b[1;31mPermissionError\u001b[0m: [Errno 13] Permission denied: 'C:/Users/Artur/Google Drive/Academy/Projects/2018 4 Journal Empirical Study Java Collections/2018 ESEM Journal/repo/16259492rykqhjrhsdyk/figs\\\\wordcount-hash-getput.pdf'"
     ]
    }
   ],
   "source": [
    "# Get + Put\n",
    "benchmark = 'wordcount'\n",
    "payloadType = '_'\n",
    "workload = 'WORDCOUNT'\n",
    "to_compare = 'JDK_O2O_HASH'\n",
    "clazz = 'GetPut'\n",
    "aggfunc = np.mean\n",
    "\n",
    "# Remove primitives\n",
    "impl_to_include = list(filter(lambda x: 'O2I' not in x, hashimpl))\n",
    "ax = plot_experiment(df, benchmark, payloadType, workload, impl_to_include, to_compare, aggfunc=aggfunc)\n",
    "\n",
    "plt.tight_layout()\n",
    "plt.savefig(os.path.join(output_folder, 'wordcount-hash-getput.pdf'))\n",
    "plt.close()"
   ]
  },
  {
   "cell_type": "markdown",
   "metadata": {},
   "source": [
    "### Wordcount Get + Put LinkedHash"
   ]
  },
  {
   "cell_type": "code",
   "execution_count": null,
   "metadata": {
    "collapsed": true
   },
   "outputs": [],
   "source": [
    "# Get + Put\n",
    "benchmark = 'wordcount'\n",
    "payloadType = '_'\n",
    "workload = 'WORDCOUNT'\n",
    "to_compare = 'JDK_O2O_LINKEDHASH'\n",
    "clazz = 'GetPut'\n",
    "aggrfunc = np.mean\n",
    "\n",
    "# Remove primitives\n",
    "impl_to_include = linkedimpl\n",
    "ax = plot_experiment(df, benchmark, payloadType, workload, impl_to_include, to_compare, aggfunc=aggfunc)\n",
    "\n",
    "plt.tight_layout()\n",
    "plt.savefig(os.path.join(output_folder, 'wordcount-linked-getput.pdf'))\n",
    "plt.close()"
   ]
  },
  {
   "cell_type": "markdown",
   "metadata": {},
   "source": [
    "### Wordcount Get + Put Array"
   ]
  },
  {
   "cell_type": "code",
   "execution_count": null,
   "metadata": {
    "collapsed": true
   },
   "outputs": [],
   "source": [
    "# Get + Put\n",
    "\n",
    "benchmark = 'wordcount'\n",
    "payloadType = '_'\n",
    "workload = 'WORDCOUNT'\n",
    "to_compare = 'JDK_O2O_HASH'\n",
    "clazz = 'GetPut'\n",
    "aggrfunc = np.mean\n",
    "\n",
    "# Remove primitives\n",
    "impl_to_include = arrayimpl\n",
    "impl_to_include.append(to_compare)\n",
    "ax = plot_experiment(df, benchmark, payloadType, workload, impl_to_include, to_compare, aggfunc=aggfunc)\n",
    "\n",
    "plt.tight_layout()\n",
    "plt.savefig(os.path.join(output_folder, 'wordcount-array-getput.pdf'))"
   ]
  },
  {
   "cell_type": "markdown",
   "metadata": {},
   "source": [
    "### Single Operations\n",
    "\n",
    "- Lists\n",
    "- Sets (Hash)\n",
    "- Sets (Sorted)\n",
    "- Maps (Hash)\n",
    "- Maps (Linked)\n",
    "- Maps (Sorted)"
   ]
  },
  {
   "cell_type": "code",
   "execution_count": null,
   "metadata": {
    "collapsed": true
   },
   "outputs": [],
   "source": [
    "benchmark = 'singleoperations.lists'\n",
    "payloadType = 'STRING_DICTIONARY'\n",
    "workload = ['POPULATE', 'ITERATE', 'CONTAINS', 'COPY']\n",
    "to_compare = 'JDK_ARRAY'\n",
    "\n",
    "impl_to_include = allimpl # Do not filter yet\n",
    "\n",
    "pp = PdfPages(os.path.join(output_folder, 'lists-all-singleoperations-plots.pdf'))\n",
    "\n",
    "for w in workload:\n",
    "    plot_experiment(df, benchmark, payloadType, w, impl_to_include, to_compare)\n",
    "    plt.title('Workload %s' % w.lower())\n",
    "    plt.tight_layout()\n",
    "    pp.savefig()\n",
    "    plt.close()\n",
    "    \n",
    "pp.close()"
   ]
  },
  {
   "cell_type": "markdown",
   "metadata": {},
   "source": [
    "### Sets"
   ]
  },
  {
   "cell_type": "code",
   "execution_count": null,
   "metadata": {
    "collapsed": true
   },
   "outputs": [],
   "source": [
    "benchmark = 'singleoperations.sets'\n",
    "payloadType = 'STRING_DICTIONARY'\n",
    "workload = ['POPULATE', 'ITERATE', 'CONTAINS', 'COPY']\n",
    "to_compare = 'JDK_HASH'\n",
    "\n",
    "impl_to_include = hashimpl\n",
    "\n",
    "pp = PdfPages(os.path.join(output_folder, 'sets-hash-singleoperations-plots.pdf'))\n",
    "\n",
    "for w in workload:\n",
    "    plot_experiment(df, benchmark, payloadType, w, impl_to_include, to_compare)\n",
    "    plt.title('Workload %s' % w.lower())\n",
    "    plt.tight_layout()\n",
    "    pp.savefig()\n",
    "    plt.close()\n",
    "    \n",
    "pp.close()"
   ]
  },
  {
   "cell_type": "code",
   "execution_count": null,
   "metadata": {
    "collapsed": true
   },
   "outputs": [],
   "source": [
    "benchmark = 'singleoperations.sets'\n",
    "payloadType = 'STRING_DICTIONARY'\n",
    "workload = ['POPULATE', 'ITERATE', 'CONTAINS', 'COPY']\n",
    "to_compare = 'JDK_TREE'\n",
    "\n",
    "impl_to_include = sortedimpl\n",
    "\n",
    "pp = PdfPages(os.path.join(output_folder, 'sets-sorted-singleoperations-plots.pdf'))\n",
    "\n",
    "for w in workload:\n",
    "    plot_experiment(df, benchmark, payloadType, w, impl_to_include, to_compare)\n",
    "    plt.title('Workload %s' % w.lower())\n",
    "    plt.tight_layout()\n",
    "    pp.savefig()\n",
    "    plt.close()\n",
    "    \n",
    "pp.close()"
   ]
  },
  {
   "cell_type": "markdown",
   "metadata": {},
   "source": [
    "### Maps "
   ]
  },
  {
   "cell_type": "code",
   "execution_count": null,
   "metadata": {
    "collapsed": true
   },
   "outputs": [],
   "source": [
    "benchmark = 'singleoperations.maps'\n",
    "payloadType = 'STRING_DICTIONARY'\n",
    "workload = ['POPULATE', 'ITERATE', 'CONTAINS', 'COPY']\n",
    "to_compare = 'JDK_O2O_HASH'\n",
    "\n",
    "impl_to_include = hashimpl # Do not filter yet\n",
    "\n",
    "pp = PdfPages(os.path.join(output_folder, 'maps-hash-singleoperations-plots.pdf'))\n",
    "\n",
    "for w in workload:\n",
    "    plot_experiment(df, benchmark, payloadType, w, impl_to_include, to_compare)\n",
    "    plt.title('Workload %s' % w.lower())\n",
    "    plt.tight_layout()\n",
    "    pp.savefig()\n",
    "    plt.close()\n",
    "    \n",
    "pp.close()"
   ]
  },
  {
   "cell_type": "markdown",
   "metadata": {},
   "source": [
    "### Sets Benchmark\n",
    "\n",
    "- Hash\n",
    "- Sorted"
   ]
  },
  {
   "cell_type": "code",
   "execution_count": null,
   "metadata": {
    "collapsed": true
   },
   "outputs": [],
   "source": [
    "benchmark = 'sets'\n",
    "payloadType = '_'\n",
    "workload = ['ADD', 'REMOVE', 'CONTAINS', 'ADD_OR_REMOVE', 'ADD_THEN_REMOVE', 'REMOVE_THEN_ADD', ]\n",
    "to_compare = 'JDK_HASH'\n",
    "clazz = 'JDKGetPut'\n",
    "\n",
    "to_include = hashimpl\n",
    "\n",
    "pp = PdfPages(os.path.join(output_folder, 'sets-hash-plots.pdf'))\n",
    "\n",
    "for w in workload:\n",
    "    ax = plot_experiment(df, benchmark, payloadType, w, to_include, to_compare, clazz)\n",
    "    plt.title('Workload %s' % w.lower())\n",
    "    plt.tight_layout()\n",
    "    pp.savefig()\n",
    "    plt.close()\n",
    "    \n",
    "pp.close()\n"
   ]
  },
  {
   "cell_type": "code",
   "execution_count": null,
   "metadata": {
    "collapsed": true
   },
   "outputs": [],
   "source": [
    "benchmark = 'sets'\n",
    "payloadType = '_'\n",
    "workload = ['ADD', 'REMOVE', 'CONTAINS', 'ADD_OR_REMOVE', 'ADD_THEN_REMOVE', 'REMOVE_THEN_ADD', ]\n",
    "to_compare = 'JDK_TREE'\n",
    "clazz = 'JDKGetPut'\n",
    "\n",
    "to_include = sortedimpl\n",
    "\n",
    "pp = PdfPages(os.path.join(output_folder, 'sets-sorted-plots.pdf'))\n",
    "\n",
    "for w in workload:\n",
    "    ax = plot_experiment(df, benchmark, payloadType, w, to_include, to_compare, clazz)\n",
    "    plt.title('Workload %s' % w.lower())\n",
    "    plt.tight_layout()\n",
    "    pp.savefig()\n",
    "    plt.close()\n",
    "    \n",
    "pp.close()"
   ]
  }
 ],
 "metadata": {
  "kernelspec": {
   "display_name": "Python 3",
   "language": "python",
   "name": "python3"
  },
  "language_info": {
   "codemirror_mode": {
    "name": "ipython",
    "version": 3
   },
   "file_extension": ".py",
   "mimetype": "text/x-python",
   "name": "python",
   "nbconvert_exporter": "python",
   "pygments_lexer": "ipython3",
   "version": "3.6.3"
  }
 },
 "nbformat": 4,
 "nbformat_minor": 2
}
