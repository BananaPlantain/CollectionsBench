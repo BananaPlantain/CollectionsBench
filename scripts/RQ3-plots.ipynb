{
 "cells": [
  {
   "cell_type": "code",
   "execution_count": null,
   "metadata": {
    "collapsed": true
   },
   "outputs": [],
   "source": [
    "import pandas as pd\n",
    "import seaborn as sns\n",
    "import os\n",
    "import matplotlib.pyplot as plt"
   ]
  },
  {
   "cell_type": "code",
   "execution_count": null,
   "metadata": {
    "collapsed": true
   },
   "outputs": [],
   "source": [
    "file = 'aggregated_results.csv'\n",
    "\n",
    "folder = '../results/EMSE/'\n",
    "\n",
    "df = pd.read_csv(os.path.join(folder, file))\n",
    "df['clazz'] = df['class']"
   ]
  },
  {
   "cell_type": "code",
   "execution_count": null,
   "metadata": {
    "collapsed": true
   },
   "outputs": [],
   "source": [
    "allimpl = df.impl.unique() \n",
    "\n",
    "hashimpl = list(filter(lambda x: '_HASH' in x or 'QHASH' in x, allimpl))\n",
    "\n",
    "arrayimpl = list(filter(lambda x: '_ARRAY' in x, allimpl))\n",
    "linkedimpl = list(filter(lambda x: '_LINKED' in x, allimpl))\n",
    "sortedimpl = list(filter(lambda x: 'RB' in x or 'TREE' in x or 'AVL' in x, allimpl))\n",
    "\n",
    "map_primitives = list(filter(lambda x: 'O2I' in x, allimpl))\n",
    "\n",
    "apis = ['JDK8Compute','JDK8Merge','JDKGetPut']"
   ]
  },
  {
   "cell_type": "markdown",
   "metadata": {},
   "source": [
    "### Renaming the classes"
   ]
  },
  {
   "cell_type": "code",
   "execution_count": null,
   "metadata": {},
   "outputs": [],
   "source": [
    "to_replace = {'EclipseIntegerAddTo':'API AddTo',\n",
    "              'EclipseUpdateValue': 'API I',\n",
    "              \n",
    "              'KolobokeIntegerAddTo': 'API AddTo',\n",
    "              \n",
    "              'MahoutIntegerAddTo': 'API AddTo',\n",
    "              'MahoutIntegerGetPut': 'API I', \n",
    "              \n",
    "              'FastutilIntegerAddToH':'API AddTo',\n",
    "              'FastutilIntegerGetPut': 'API I',\n",
    "              'FastutilIntegerAddToA': 'API AddTo',\n",
    "              'FastutilIntegerAddToR': 'API AddTo',\n",
    "             \n",
    "              'GuavaMultiSetAdd': 'API I',\n",
    "             \n",
    "              'HPPCGetPut': 'API I',\n",
    "              'HPPCIndexOf': 'API II',\n",
    "              'HPPCIntegerAddTo': 'API AddTo',\n",
    "              \n",
    "              'ScalaGetPut': 'API I',\n",
    "              'ScalaGetOrElsePut': 'API II',\n",
    "              \n",
    "              'TroveIntegerAdjust': 'API I'\n",
    "              }"
   ]
  },
  {
   "cell_type": "code",
   "execution_count": null,
   "metadata": {},
   "outputs": [],
   "source": [
    "hash_wordcount = df.query('workload == \"WORDCOUNT\" and impl in @hashimpl and size == 1000000 and clazz == @apis')"
   ]
  },
  {
   "cell_type": "code",
   "execution_count": null,
   "metadata": {},
   "outputs": [],
   "source": [
    "%matplotlib inline\n",
    "table = pd.pivot_table(data=hash_wordcount, index='impl', columns='clazz', values='mean')\n",
    "\n",
    "fastest = table.min(axis=1)\n",
    "table = table.divide(fastest, axis=0)\n",
    "S = .5\n",
    "plt.figure(figsize=(.4 * len(table), S * len(table)))  # Should be a parameter\n",
    "\n",
    "clrs = sns.color_palette(\"Reds\", 256)\n",
    "sns.heatmap(data=table, cmap=clrs, linewidths=.5, robust=True, fmt=\"2.0%\", annot=True)\n",
    "\n",
    "plt.savefig(os.path.join(folder, 'wordcount-hash-jdkapi-size1M.pdf'))\n"
   ]
  },
  {
   "cell_type": "code",
   "execution_count": null,
   "metadata": {},
   "outputs": [],
   "source": [
    "wordcount.clazz.unique()"
   ]
  },
  {
   "cell_type": "code",
   "execution_count": null,
   "metadata": {},
   "outputs": [],
   "source": [
    "wordcount = df.query('workload == \"WORDCOUNT\" and impl in @hashimpl and size == 1000000')\n",
    "\n",
    "wordcount['clazz'] = wordcount['class'].replace(to_replace=to_replace)\n",
    "\n",
    "%matplotlib inline\n",
    "table = pd.pivot_table(data=wordcount, index='impl', columns='clazz', values='mean')\n",
    "\n",
    "fastest = table.min(axis=1)\n",
    "table = table.divide(fastest, axis=0)\n",
    "S = .5\n",
    "plt.figure(figsize=(.5 * len(table), S * len(table)))  # Should be a parameter\n",
    "\n",
    "clrs = sns.color_palette(\"Reds\", 256)\n",
    "sns.heatmap(data=table, cmap=clrs, linewidths=.5, robust=True, fmt=\"2.0%\", annot=True)\n",
    "\n",
    "plt.savefig(os.path.join(folder, 'wordcount-hash-allapi-size1M.pdf'))"
   ]
  },
  {
   "cell_type": "code",
   "execution_count": null,
   "metadata": {},
   "outputs": [],
   "source": [
    "wordcount = df.query('workload == \"WORDCOUNT\" and impl in @linkedimpl and size == 1000000')\n",
    "\n",
    "wordcount['clazz'] = wordcount['class'].replace(to_replace=to_replace)\n",
    "\n",
    "%matplotlib inline\n",
    "table = pd.pivot_table(data=wordcount, index='impl', columns='clazz', values='mean')\n",
    "\n",
    "fastest = table.min(axis=1)\n",
    "table = table.divide(fastest, axis=0)\n",
    "S = .5\n",
    "plt.figure(figsize=(1 * len(table), S * len(table)))  # Should be a parameter\n",
    "\n",
    "clrs = sns.color_palette(\"Reds\", 256)\n",
    "sns.heatmap(data=table, cmap=clrs, linewidths=.5, robust=True, fmt=\"2.0%\", annot=True)\n",
    "\n",
    "plt.savefig(os.path.join(folder, 'wordcount-linked-allapi-size1M.pdf'))"
   ]
  },
  {
   "cell_type": "code",
   "execution_count": null,
   "metadata": {},
   "outputs": [],
   "source": [
    "wordcount = df.query('workload == \"WORDCOUNT\" and impl in @map_primitives and size == 1000000')\n",
    "\n",
    "wordcount['clazz'] = wordcount['class'].replace(to_replace=to_replace)\n",
    "\n",
    "%matplotlib inline\n",
    "table = pd.pivot_table(data=wordcount, index='impl', columns='clazz', values='mean')\n",
    "\n",
    "fastest = table.min(axis=1)\n",
    "table = table.divide(fastest, axis=0)\n",
    "S = .5\n",
    "plt.figure(figsize=(.6 * len(table), S * len(table)))  # Should be a parameter\n",
    "\n",
    "clrs = sns.color_palette(\"Reds\", 256)\n",
    "sns.heatmap(data=table, cmap=clrs, linewidths=.5, robust=True, fmt=\"2.0%\", annot=True)\n",
    "\n",
    "plt.savefig(os.path.join(folder, 'wordcount-prim-allapi-size1M.pdf'))"
   ]
  },
  {
   "cell_type": "code",
   "execution_count": null,
   "metadata": {},
   "outputs": [],
   "source": [
    "wordcount = df.query('workload == \"WORDCOUNT\" and size == 1000000 and clazz not in [\"Noop\", \"Blackhole\"]')\n",
    "\n",
    "wordcount['clazz'] = wordcount['class'].replace(to_replace=to_replace)\n",
    "\n",
    "%matplotlib inline\n",
    "table = pd.pivot_table(data=wordcount, index='impl', columns='clazz', values='mean')\n",
    "\n",
    "fastest = table.min(axis=1)\n",
    "table = table.divide(fastest, axis=0)\n",
    "S = .5\n",
    "plt.figure(figsize=(.3 * len(table), S * len(table)))  # Should be a parameter\n",
    "\n",
    "clrs = sns.color_palette(\"Reds\", 256)\n",
    "sns.heatmap(data=table, cmap=clrs, linewidths=.5, robust=True, fmt=\"2.0%\", annot=True)\n",
    "\n",
    "plt.savefig(os.path.join(folder, 'wordcount-all-allapi-size1M.pdf'))"
   ]
  },
  {
   "cell_type": "code",
   "execution_count": null,
   "metadata": {
    "collapsed": true
   },
   "outputs": [],
   "source": []
  }
 ],
 "metadata": {
  "kernelspec": {
   "display_name": "Python 3",
   "language": "python",
   "name": "python3"
  },
  "language_info": {
   "codemirror_mode": {
    "name": "ipython",
    "version": 3
   },
   "file_extension": ".py",
   "mimetype": "text/x-python",
   "name": "python",
   "nbconvert_exporter": "python",
   "pygments_lexer": "ipython3",
   "version": "3.6.3"
  }
 },
 "nbformat": 4,
 "nbformat_minor": 2
}
